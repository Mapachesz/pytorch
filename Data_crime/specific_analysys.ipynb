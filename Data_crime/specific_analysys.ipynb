{
 "cells": [
  {
   "cell_type": "code",
   "execution_count": 1,
   "metadata": {},
   "outputs": [],
   "source": [
    "import pandas as pd\n",
    "import matplotlib.pyplot as plt\n",
    "import seaborn as sns\n",
    "import numpy as np"
   ]
  },
  {
   "cell_type": "code",
   "execution_count": 2,
   "metadata": {},
   "outputs": [],
   "source": [
    "crime_df = pd.read_csv(\"Crime_Data_from_2020_to_Present.csv\")"
   ]
  },
  {
   "cell_type": "code",
   "execution_count": 3,
   "metadata": {},
   "outputs": [],
   "source": [
    "# Separar el dataset en base al sexo\n",
    "crime_df_m = crime_df[crime_df['Vict Sex'] == 'M']  # Masculino\n",
    "crime_df_f = crime_df[crime_df['Vict Sex'] == 'F']  # Femenino\n",
    "crime_df_x = crime_df[crime_df['Vict Sex'] == 'X']  # Otro/No binario\n"
   ]
  },
  {
   "cell_type": "code",
   "execution_count": null,
   "metadata": {},
   "outputs": [],
   "source": [
    "\n",
    "fig, axes = plt.subplots(nrows=5, ncols=3, figsize=(20, 20))\n",
    "axes = axes.flat\n",
    "numeric_columns = crime_df_m.select_dtypes(include=np.number).columns\n",
    "\n",
    "for i, colum in enumerate(numeric_columns):\n",
    "    sns.histplot(\n",
    "        data     = crime_df_m,\n",
    "        x        = colum,\n",
    "        stat     = \"count\",\n",
    "        kde      = True,\n",
    "        color    = (list(plt.rcParams['axes.prop_cycle'])*2)[i][\"color\"],\n",
    "        line_kws = {'linewidth': 2},\n",
    "        alpha    = 0.3,\n",
    "        ax       = axes[i]\n",
    "    )\n",
    "    axes[i].set_title(colum, fontsize = 7, fontweight = \"bold\")\n",
    "    axes[i].tick_params(labelsize = 6)\n",
    "    axes[i].set_xlabel(\"\")\n",
    "    \n",
    "    \n",
    "fig.tight_layout()\n",
    "plt.subplots_adjust(top = 0.9)\n",
    "fig.suptitle('Masculin - Distribution of numeric values', fontsize = 10, fontweight = \"bold\")"
   ]
  },
  {
   "cell_type": "code",
   "execution_count": null,
   "metadata": {},
   "outputs": [],
   "source": [
    "\n",
    "fig, axes = plt.subplots(nrows=5, ncols=3, figsize=(20, 20))\n",
    "axes = axes.flat\n",
    "numeric_columns = crime_df_f.select_dtypes(include=np.number).columns\n",
    "\n",
    "for i, colum in enumerate(numeric_columns):\n",
    "    sns.histplot(\n",
    "        data     = crime_df_f,\n",
    "        x        = colum,\n",
    "        stat     = \"count\",\n",
    "        kde      = True,\n",
    "        color    = (list(plt.rcParams['axes.prop_cycle'])*2)[i][\"color\"],\n",
    "        line_kws = {'linewidth': 2},\n",
    "        alpha    = 0.3,\n",
    "        ax       = axes[i]\n",
    "    )\n",
    "    axes[i].set_title(colum, fontsize = 7, fontweight = \"bold\")\n",
    "    axes[i].tick_params(labelsize = 6)\n",
    "    axes[i].set_xlabel(\"\")\n",
    "    \n",
    "    \n",
    "fig.tight_layout()\n",
    "plt.subplots_adjust(top = 0.9)\n",
    "fig.suptitle('Female-Distribution of numeric values', fontsize = 10, fontweight = \"bold\")"
   ]
  }
 ],
 "metadata": {
  "kernelspec": {
   "display_name": "Python 3",
   "language": "python",
   "name": "python3"
  },
  "language_info": {
   "codemirror_mode": {
    "name": "ipython",
    "version": 3
   },
   "file_extension": ".py",
   "mimetype": "text/x-python",
   "name": "python",
   "nbconvert_exporter": "python",
   "pygments_lexer": "ipython3",
   "version": "3.13.0"
  }
 },
 "nbformat": 4,
 "nbformat_minor": 2
}
