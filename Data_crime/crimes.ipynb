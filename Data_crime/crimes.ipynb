{
 "cells": [
  {
   "cell_type": "code",
   "execution_count": 21,
   "metadata": {},
   "outputs": [],
   "source": [
    "import pandas as pd\n",
    "import matplotlib.pyplot as plt\n",
    "import seaborn as sns\n",
    "import numpy as np\n",
    "from sklearn.model_selection import train_test_split\n",
    "from sklearn.ensemble import RandomForestClassifier\n",
    "from sklearn.metrics import accuracy_score, classification_report\n",
    "from sklearn.preprocessing import OneHotEncoder"
   ]
  },
  {
   "cell_type": "code",
   "execution_count": 8,
   "metadata": {},
   "outputs": [],
   "source": [
    "crime_df = pd.read_csv(\"Crime_Data_from_2020_to_Present.csv\")"
   ]
  },
  {
   "cell_type": "code",
   "execution_count": 9,
   "metadata": {},
   "outputs": [],
   "source": [
    "top_30_crimes = crime_df['Crm Cd Desc'].value_counts().head(30).index"
   ]
  },
  {
   "cell_type": "code",
   "execution_count": 15,
   "metadata": {},
   "outputs": [],
   "source": [
    "crime_df_top_30 = crime_df[crime_df['Crm Cd Desc'].isin(top_30_crimes)]"
   ]
  },
  {
   "cell_type": "code",
   "execution_count": 16,
   "metadata": {},
   "outputs": [],
   "source": [
    "\n",
    "\n",
    "crime_df_f = crime_df_top_30[crime_df_top_30['Vict Sex'] == 'F']  # Female\n",
    "crime_df_x = crime_df_top_30[crime_df_top_30['Vict Sex'] == 'X']  # Other/No binary\n"
   ]
  },
  {
   "cell_type": "code",
   "execution_count": 25,
   "metadata": {},
   "outputs": [
    {
     "name": "stdout",
     "output_type": "stream",
     "text": [
      "Preparación y modelo para predecir el tipo de delito en víctimas masculinas\n"
     ]
    },
    {
     "name": "stderr",
     "output_type": "stream",
     "text": [
      "C:\\Users\\zntbk\\AppData\\Local\\Temp\\ipykernel_11304\\964657691.py:10: UserWarning: Could not infer format, so each element will be parsed individually, falling back to `dateutil`. To ensure parsing is consistent and as-expected, please specify a format.\n",
      "  crime_df_m['DATE OCC'] = pd.to_datetime(crime_df_m['DATE OCC'], errors='coerce')\n"
     ]
    },
    {
     "ename": "TypeError",
     "evalue": "OneHotEncoder.__init__() got an unexpected keyword argument 'sparse'",
     "output_type": "error",
     "traceback": [
      "\u001b[1;31m---------------------------------------------------------------------------\u001b[0m",
      "\u001b[1;31mTypeError\u001b[0m                                 Traceback (most recent call last)",
      "Cell \u001b[1;32mIn[25], line 25\u001b[0m\n\u001b[0;32m     22\u001b[0m numerical_columns_m \u001b[38;5;241m=\u001b[39m [\u001b[38;5;124m'\u001b[39m\u001b[38;5;124mVict Age\u001b[39m\u001b[38;5;124m'\u001b[39m, \u001b[38;5;124m'\u001b[39m\u001b[38;5;124mLAT\u001b[39m\u001b[38;5;124m'\u001b[39m, \u001b[38;5;124m'\u001b[39m\u001b[38;5;124mLON\u001b[39m\u001b[38;5;124m'\u001b[39m, \u001b[38;5;124m'\u001b[39m\u001b[38;5;124mMonth OCC\u001b[39m\u001b[38;5;124m'\u001b[39m, \u001b[38;5;124m'\u001b[39m\u001b[38;5;124mDay OCC\u001b[39m\u001b[38;5;124m'\u001b[39m, \u001b[38;5;124m'\u001b[39m\u001b[38;5;124mDay of Week OCC\u001b[39m\u001b[38;5;124m'\u001b[39m]  \u001b[38;5;66;03m# Columnas numéricas\u001b[39;00m\n\u001b[0;32m     24\u001b[0m \u001b[38;5;66;03m# ---- 3. Codificar características categóricas ----\u001b[39;00m\n\u001b[1;32m---> 25\u001b[0m encoder \u001b[38;5;241m=\u001b[39m \u001b[43mOneHotEncoder\u001b[49m\u001b[43m(\u001b[49m\u001b[43mdrop\u001b[49m\u001b[38;5;241;43m=\u001b[39;49m\u001b[38;5;124;43m'\u001b[39;49m\u001b[38;5;124;43mfirst\u001b[39;49m\u001b[38;5;124;43m'\u001b[39;49m\u001b[43m,\u001b[49m\u001b[43m \u001b[49m\u001b[43msparse\u001b[49m\u001b[38;5;241;43m=\u001b[39;49m\u001b[38;5;28;43;01mFalse\u001b[39;49;00m\u001b[43m)\u001b[49m\n\u001b[0;32m     26\u001b[0m X_m_categorical \u001b[38;5;241m=\u001b[39m encoder\u001b[38;5;241m.\u001b[39mfit_transform(crime_df_m[categorical_columns_m])\n\u001b[0;32m     28\u001b[0m \u001b[38;5;66;03m# Convertir las columnas codificadas a un DataFrame\u001b[39;00m\n",
      "\u001b[1;31mTypeError\u001b[0m: OneHotEncoder.__init__() got an unexpected keyword argument 'sparse'"
     ]
    }
   ],
   "source": [
    "crime_df_m = crime_df_top_30[crime_df_top_30['Vict Sex'] == 'M']  # Masculin-{}\n",
    "# Para el conjunto de datos masculino\n",
    "print(\"Preparación y modelo para predecir el tipo de delito en víctimas masculinas\")\n",
    "\n",
    "# Eliminar filas con valores nulos en columnas clave\n",
    "crime_df_m = crime_df_m.dropna(subset=['Vict Age', 'Crm Cd Desc', 'Weapon Desc', 'Premis Desc', 'DATE OCC', 'TIME OCC', 'Vict Sex'])\n",
    "\n",
    "# ---- 1. Transformar las columnas de fechas ----\n",
    "# Convertir DATE OCC a formato de fecha\n",
    "crime_df_m['DATE OCC'] = pd.to_datetime(crime_df_m['DATE OCC'], errors='coerce')\n",
    "\n",
    "# Extraer características de la fecha\n",
    "crime_df_m['Month OCC'] = crime_df_m['DATE OCC'].dt.month\n",
    "crime_df_m['Day OCC'] = crime_df_m['DATE OCC'].dt.day\n",
    "crime_df_m['Day of Week OCC'] = crime_df_m['DATE OCC'].dt.dayofweek  # Lunes=0, Domingo=6\n",
    "\n",
    "# Convertir la hora en cuatro categorías: madrugada, mañana, tarde, noche\n",
    "crime_df_m['TIME OCC'] = crime_df_m['TIME OCC'].apply(lambda x: 'madrugada' if 0 <= x < 600 else 'mañana' if 600 <= x < 1200 else 'tarde' if 1200 <= x < 1800 else 'noche')\n",
    "\n",
    "# ---- 2. Seleccionar características relevantes ----\n",
    "categorical_columns_m = ['Vict Sex', 'Vict Descent', 'Premis Desc', 'Weapon Desc', 'AREA NAME', 'TIME OCC']  # Columnas categóricas\n",
    "numerical_columns_m = ['Vict Age', 'LAT', 'LON', 'Month OCC', 'Day OCC', 'Day of Week OCC']  # Columnas numéricas\n",
    "\n",
    "# ---- 3. Codificar características categóricas ----\n",
    "# Cambia 'sparse' por 'sparse_output'\n",
    "encoder = OneHotEncoder(drop='first', sparse_output=False)\n",
    "X_m_categorical = encoder.fit_transform(crime_df_m[categorical_columns_m])\n",
    "\n",
    "# Convertir las columnas codificadas a un DataFrame\n",
    "X_m_categorical_df = pd.DataFrame(X_m_categorical, columns=encoder.get_feature_names_out(categorical_columns_m))\n",
    "\n",
    "# Combinar las columnas categóricas codificadas con las numéricas\n",
    "X_m = pd.concat([crime_df_m[numerical_columns_m].reset_index(drop=True), X_m_categorical_df.reset_index(drop=True)], axis=1)\n",
    "\n",
    "# Variable objetivo (lo que estamos intentando predecir: el tipo de delito)\n",
    "y_m = crime_df_m['Crm Cd Desc']\n",
    "\n",
    "# ---- 4. Dividir los datos en conjunto de entrenamiento y prueba ----\n",
    "X_train_m, X_test_m, y_train_m, y_test_m = train_test_split(X_m, y_m, test_size=0.2, random_state=42)\n",
    "\n",
    "# ---- 5. Crear y entrenar el modelo de Random Forest ----\n",
    "rf_model_m = RandomForestClassifier(random_state=42)\n",
    "rf_model_m.fit(X_train_m, y_train_m)\n",
    "\n",
    "# ---- 6. Hacer predicciones y evaluar el modelo ----\n",
    "y_pred_m = rf_model_m.predict(X_test_m)\n",
    "accuracy_m = accuracy_score(y_test_m, y_pred_m)\n",
    "print(f\"Precisión del modelo para víctimas masculinas: {accuracy_m:.2f}\")\n",
    "print(classification_report(y_test_m, y_pred_m))\n",
    "print(classification_report(y_test_m, y_pred_m))"
   ]
  },
  {
   "cell_type": "code",
   "execution_count": 19,
   "metadata": {},
   "outputs": [],
   "source": []
  },
  {
   "cell_type": "code",
   "execution_count": null,
   "metadata": {},
   "outputs": [],
   "source": []
  }
 ],
 "metadata": {
  "kernelspec": {
   "display_name": "Python 3",
   "language": "python",
   "name": "python3"
  },
  "language_info": {
   "codemirror_mode": {
    "name": "ipython",
    "version": 3
   },
   "file_extension": ".py",
   "mimetype": "text/x-python",
   "name": "python",
   "nbconvert_exporter": "python",
   "pygments_lexer": "ipython3",
   "version": "3.13.0"
  }
 },
 "nbformat": 4,
 "nbformat_minor": 2
}
